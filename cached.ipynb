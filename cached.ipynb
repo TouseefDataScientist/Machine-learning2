{
 "cells": [
  {
   "cell_type": "markdown",
   "metadata": {},
   "source": [
    "<html><body>\n",
    "<h1> My first file </h1>\n",
    "<body></html>"
   ]
  }
 ],
 "metadata": {
  "language_info": {
   "name": "python"
  }
 },
 "nbformat": 4,
 "nbformat_minor": 2
}
