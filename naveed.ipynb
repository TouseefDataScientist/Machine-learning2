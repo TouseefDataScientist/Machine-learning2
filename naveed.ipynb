{
 "cells": [
  {
   "cell_type": "markdown",
   "metadata": {},
   "source": [
    "<center>\n",
    "\n",
    "Name: Naveed Ftaima\n",
    "\n",
    "Email: naveedfatimaumer@gmail.com\n",
    "\n",
    "Github: [github.com/NaveedFatima](http://github.com/naveedfatima)\n",
    "\n",
    "Purpose of your Document: Machine Learning\n",
    "</center>"
   ]
  },
  {
   "cell_type": "markdown",
   "metadata": {},
   "source": [
    "##### Loading Libraries"
   ]
  },
  {
   "cell_type": "markdown",
   "metadata": {},
   "source": []
  },
  {
   "cell_type": "code",
   "execution_count": 30,
   "metadata": {},
   "outputs": [],
   "source": [
    "# Loading Libraries"
   ]
  },
  {
   "cell_type": "code",
   "execution_count": 31,
   "metadata": {},
   "outputs": [
    {
     "name": "stdout",
     "output_type": "stream",
     "text": [
      "Defaulting to user installation because normal site-packages is not writeable\n",
      "Requirement already satisfied: pandas in c:\\users\\naveed_ai&ml\\appdata\\roaming\\python\\python313\\site-packages (2.2.3)\n",
      "Requirement already satisfied: numpy>=1.26.0 in c:\\users\\naveed_ai&ml\\appdata\\roaming\\python\\python313\\site-packages (from pandas) (2.2.0)\n",
      "Requirement already satisfied: python-dateutil>=2.8.2 in c:\\users\\naveed_ai&ml\\appdata\\roaming\\python\\python313\\site-packages (from pandas) (2.9.0.post0)\n",
      "Requirement already satisfied: pytz>=2020.1 in c:\\users\\naveed_ai&ml\\appdata\\roaming\\python\\python313\\site-packages (from pandas) (2024.2)\n",
      "Requirement already satisfied: tzdata>=2022.7 in c:\\users\\naveed_ai&ml\\appdata\\roaming\\python\\python313\\site-packages (from pandas) (2024.2)\n",
      "Requirement already satisfied: six>=1.5 in c:\\users\\naveed_ai&ml\\appdata\\roaming\\python\\python313\\site-packages (from python-dateutil>=2.8.2->pandas) (1.17.0)\n",
      "Note: you may need to restart the kernel to use updated packages.\n"
     ]
    }
   ],
   "source": [
    "#library install\n",
    "%pip install pandas"
   ]
  },
  {
   "cell_type": "code",
   "execution_count": 32,
   "metadata": {},
   "outputs": [],
   "source": [
    "#importing libraries\n",
    "import pandas as pd"
   ]
  },
  {
   "cell_type": "markdown",
   "metadata": {},
   "source": [
    "#### Loading datasets"
   ]
  },
  {
   "cell_type": "code",
   "execution_count": 85,
   "metadata": {},
   "outputs": [
    {
     "data": {
      "text/html": [
       "<div>\n",
       "<style scoped>\n",
       "    .dataframe tbody tr th:only-of-type {\n",
       "        vertical-align: middle;\n",
       "    }\n",
       "\n",
       "    .dataframe tbody tr th {\n",
       "        vertical-align: top;\n",
       "    }\n",
       "\n",
       "    .dataframe thead th {\n",
       "        text-align: right;\n",
       "    }\n",
       "</style>\n",
       "<table border=\"1\" class=\"dataframe\">\n",
       "  <thead>\n",
       "    <tr style=\"text-align: right;\">\n",
       "      <th></th>\n",
       "      <th>Name</th>\n",
       "      <th>Designation</th>\n",
       "      <th>Gender</th>\n",
       "      <th>Age</th>\n",
       "      <th>Salary</th>\n",
       "    </tr>\n",
       "  </thead>\n",
       "  <tbody>\n",
       "    <tr>\n",
       "      <th>0</th>\n",
       "      <td>Mukhtar</td>\n",
       "      <td>Prrofessor</td>\n",
       "      <td>M</td>\n",
       "      <td>37.0</td>\n",
       "      <td>115000.0</td>\n",
       "    </tr>\n",
       "    <tr>\n",
       "      <th>1</th>\n",
       "      <td>Aziz</td>\n",
       "      <td>Teacher</td>\n",
       "      <td>M</td>\n",
       "      <td>30.0</td>\n",
       "      <td>35000.0</td>\n",
       "    </tr>\n",
       "    <tr>\n",
       "      <th>2</th>\n",
       "      <td>Mohsin</td>\n",
       "      <td>Engineer</td>\n",
       "      <td>M</td>\n",
       "      <td>29.0</td>\n",
       "      <td>50000.0</td>\n",
       "    </tr>\n",
       "    <tr>\n",
       "      <th>3</th>\n",
       "      <td>Naveed Fatima</td>\n",
       "      <td>Analyst</td>\n",
       "      <td>F</td>\n",
       "      <td>30.0</td>\n",
       "      <td>70000.0</td>\n",
       "    </tr>\n",
       "    <tr>\n",
       "      <th>4</th>\n",
       "      <td>Babar</td>\n",
       "      <td>Engineer</td>\n",
       "      <td>F</td>\n",
       "      <td>25.0</td>\n",
       "      <td>150000.0</td>\n",
       "    </tr>\n",
       "    <tr>\n",
       "      <th>5</th>\n",
       "      <td>Aqsa</td>\n",
       "      <td>Scientist</td>\n",
       "      <td>F</td>\n",
       "      <td>22.0</td>\n",
       "      <td>NaN</td>\n",
       "    </tr>\n",
       "    <tr>\n",
       "      <th>6</th>\n",
       "      <td>Rafia</td>\n",
       "      <td>Analyst</td>\n",
       "      <td>F</td>\n",
       "      <td>29.0</td>\n",
       "      <td>20000.0</td>\n",
       "    </tr>\n",
       "    <tr>\n",
       "      <th>7</th>\n",
       "      <td>Samra</td>\n",
       "      <td>Scientist</td>\n",
       "      <td>F</td>\n",
       "      <td>26.0</td>\n",
       "      <td>115000.0</td>\n",
       "    </tr>\n",
       "    <tr>\n",
       "      <th>8</th>\n",
       "      <td>Eman</td>\n",
       "      <td>Engineer</td>\n",
       "      <td>F</td>\n",
       "      <td>28.0</td>\n",
       "      <td>35000.0</td>\n",
       "    </tr>\n",
       "    <tr>\n",
       "      <th>9</th>\n",
       "      <td>Abdullah</td>\n",
       "      <td>Teacher</td>\n",
       "      <td>M</td>\n",
       "      <td>55.0</td>\n",
       "      <td>NaN</td>\n",
       "    </tr>\n",
       "    <tr>\n",
       "      <th>10</th>\n",
       "      <td>Mosib</td>\n",
       "      <td>Professor</td>\n",
       "      <td>M</td>\n",
       "      <td>60.0</td>\n",
       "      <td>70000.0</td>\n",
       "    </tr>\n",
       "    <tr>\n",
       "      <th>11</th>\n",
       "      <td>Ahmed</td>\n",
       "      <td>Engineer</td>\n",
       "      <td>M</td>\n",
       "      <td>NaN</td>\n",
       "      <td>90000.0</td>\n",
       "    </tr>\n",
       "    <tr>\n",
       "      <th>12</th>\n",
       "      <td>Ahsan</td>\n",
       "      <td>trainer</td>\n",
       "      <td>M</td>\n",
       "      <td>156.0</td>\n",
       "      <td>110000.0</td>\n",
       "    </tr>\n",
       "    <tr>\n",
       "      <th>13</th>\n",
       "      <td>Wajid</td>\n",
       "      <td>Teacher</td>\n",
       "      <td>M</td>\n",
       "      <td>67.0</td>\n",
       "      <td>2000.0</td>\n",
       "    </tr>\n",
       "    <tr>\n",
       "      <th>14</th>\n",
       "      <td>Naeem</td>\n",
       "      <td>trainer</td>\n",
       "      <td>M</td>\n",
       "      <td>80.0</td>\n",
       "      <td>16000.0</td>\n",
       "    </tr>\n",
       "    <tr>\n",
       "      <th>15</th>\n",
       "      <td>Qaisar</td>\n",
       "      <td>Prrofessor</td>\n",
       "      <td>M</td>\n",
       "      <td>20.0</td>\n",
       "      <td>170000.0</td>\n",
       "    </tr>\n",
       "    <tr>\n",
       "      <th>16</th>\n",
       "      <td>Wajid</td>\n",
       "      <td>Engineer</td>\n",
       "      <td>M</td>\n",
       "      <td>85.0</td>\n",
       "      <td>190000.0</td>\n",
       "    </tr>\n",
       "  </tbody>\n",
       "</table>\n",
       "</div>"
      ],
      "text/plain": [
       "             Name Designation Gender    Age    Salary\n",
       "0         Mukhtar  Prrofessor      M   37.0  115000.0\n",
       "1            Aziz     Teacher      M   30.0   35000.0\n",
       "2          Mohsin    Engineer      M   29.0   50000.0\n",
       "3   Naveed Fatima     Analyst      F   30.0   70000.0\n",
       "4           Babar    Engineer      F   25.0  150000.0\n",
       "5            Aqsa   Scientist      F   22.0       NaN\n",
       "6          Rafia      Analyst      F   29.0   20000.0\n",
       "7           Samra   Scientist      F   26.0  115000.0\n",
       "8           Eman     Engineer      F   28.0   35000.0\n",
       "9        Abdullah     Teacher      M   55.0       NaN\n",
       "10          Mosib   Professor      M   60.0   70000.0\n",
       "11          Ahmed    Engineer      M    NaN   90000.0\n",
       "12          Ahsan     trainer      M  156.0  110000.0\n",
       "13          Wajid     Teacher      M   67.0    2000.0\n",
       "14          Naeem     trainer      M   80.0   16000.0\n",
       "15         Qaisar  Prrofessor      M   20.0  170000.0\n",
       "16          Wajid    Engineer      M   85.0  190000.0"
      ]
     },
     "execution_count": 85,
     "metadata": {},
     "output_type": "execute_result"
    }
   ],
   "source": [
    "#Loading csv file\n",
    "pd.read_csv(\"data.csv\")"
   ]
  },
  {
   "cell_type": "markdown",
   "metadata": {},
   "source": []
  },
  {
   "cell_type": "code",
   "execution_count": 87,
   "metadata": {},
   "outputs": [],
   "source": [
    "df=pd.read_csv(\"data.csv\")"
   ]
  },
  {
   "cell_type": "markdown",
   "metadata": {},
   "source": [
    "#### preview dataset"
   ]
  },
  {
   "cell_type": "code",
   "execution_count": 88,
   "metadata": {},
   "outputs": [
    {
     "data": {
      "text/html": [
       "<div>\n",
       "<style scoped>\n",
       "    .dataframe tbody tr th:only-of-type {\n",
       "        vertical-align: middle;\n",
       "    }\n",
       "\n",
       "    .dataframe tbody tr th {\n",
       "        vertical-align: top;\n",
       "    }\n",
       "\n",
       "    .dataframe thead th {\n",
       "        text-align: right;\n",
       "    }\n",
       "</style>\n",
       "<table border=\"1\" class=\"dataframe\">\n",
       "  <thead>\n",
       "    <tr style=\"text-align: right;\">\n",
       "      <th></th>\n",
       "      <th>Name</th>\n",
       "      <th>Designation</th>\n",
       "      <th>Gender</th>\n",
       "      <th>Age</th>\n",
       "      <th>Salary</th>\n",
       "    </tr>\n",
       "  </thead>\n",
       "  <tbody>\n",
       "    <tr>\n",
       "      <th>0</th>\n",
       "      <td>Mukhtar</td>\n",
       "      <td>Prrofessor</td>\n",
       "      <td>M</td>\n",
       "      <td>37.0</td>\n",
       "      <td>115000.0</td>\n",
       "    </tr>\n",
       "    <tr>\n",
       "      <th>1</th>\n",
       "      <td>Aziz</td>\n",
       "      <td>Teacher</td>\n",
       "      <td>M</td>\n",
       "      <td>30.0</td>\n",
       "      <td>35000.0</td>\n",
       "    </tr>\n",
       "    <tr>\n",
       "      <th>2</th>\n",
       "      <td>Mohsin</td>\n",
       "      <td>Engineer</td>\n",
       "      <td>M</td>\n",
       "      <td>29.0</td>\n",
       "      <td>50000.0</td>\n",
       "    </tr>\n",
       "    <tr>\n",
       "      <th>3</th>\n",
       "      <td>Naveed Fatima</td>\n",
       "      <td>Analyst</td>\n",
       "      <td>F</td>\n",
       "      <td>30.0</td>\n",
       "      <td>70000.0</td>\n",
       "    </tr>\n",
       "    <tr>\n",
       "      <th>4</th>\n",
       "      <td>Babar</td>\n",
       "      <td>Engineer</td>\n",
       "      <td>F</td>\n",
       "      <td>25.0</td>\n",
       "      <td>150000.0</td>\n",
       "    </tr>\n",
       "    <tr>\n",
       "      <th>5</th>\n",
       "      <td>Aqsa</td>\n",
       "      <td>Scientist</td>\n",
       "      <td>F</td>\n",
       "      <td>22.0</td>\n",
       "      <td>NaN</td>\n",
       "    </tr>\n",
       "    <tr>\n",
       "      <th>6</th>\n",
       "      <td>Rafia</td>\n",
       "      <td>Analyst</td>\n",
       "      <td>F</td>\n",
       "      <td>29.0</td>\n",
       "      <td>20000.0</td>\n",
       "    </tr>\n",
       "    <tr>\n",
       "      <th>7</th>\n",
       "      <td>Samra</td>\n",
       "      <td>Scientist</td>\n",
       "      <td>F</td>\n",
       "      <td>26.0</td>\n",
       "      <td>115000.0</td>\n",
       "    </tr>\n",
       "    <tr>\n",
       "      <th>8</th>\n",
       "      <td>Eman</td>\n",
       "      <td>Engineer</td>\n",
       "      <td>F</td>\n",
       "      <td>28.0</td>\n",
       "      <td>35000.0</td>\n",
       "    </tr>\n",
       "    <tr>\n",
       "      <th>9</th>\n",
       "      <td>Abdullah</td>\n",
       "      <td>Teacher</td>\n",
       "      <td>M</td>\n",
       "      <td>55.0</td>\n",
       "      <td>NaN</td>\n",
       "    </tr>\n",
       "    <tr>\n",
       "      <th>10</th>\n",
       "      <td>Mosib</td>\n",
       "      <td>Professor</td>\n",
       "      <td>M</td>\n",
       "      <td>60.0</td>\n",
       "      <td>70000.0</td>\n",
       "    </tr>\n",
       "    <tr>\n",
       "      <th>11</th>\n",
       "      <td>Ahmed</td>\n",
       "      <td>Engineer</td>\n",
       "      <td>M</td>\n",
       "      <td>NaN</td>\n",
       "      <td>90000.0</td>\n",
       "    </tr>\n",
       "    <tr>\n",
       "      <th>12</th>\n",
       "      <td>Ahsan</td>\n",
       "      <td>trainer</td>\n",
       "      <td>M</td>\n",
       "      <td>156.0</td>\n",
       "      <td>110000.0</td>\n",
       "    </tr>\n",
       "    <tr>\n",
       "      <th>13</th>\n",
       "      <td>Wajid</td>\n",
       "      <td>Teacher</td>\n",
       "      <td>M</td>\n",
       "      <td>67.0</td>\n",
       "      <td>2000.0</td>\n",
       "    </tr>\n",
       "    <tr>\n",
       "      <th>14</th>\n",
       "      <td>Naeem</td>\n",
       "      <td>trainer</td>\n",
       "      <td>M</td>\n",
       "      <td>80.0</td>\n",
       "      <td>16000.0</td>\n",
       "    </tr>\n",
       "    <tr>\n",
       "      <th>15</th>\n",
       "      <td>Qaisar</td>\n",
       "      <td>Prrofessor</td>\n",
       "      <td>M</td>\n",
       "      <td>20.0</td>\n",
       "      <td>170000.0</td>\n",
       "    </tr>\n",
       "    <tr>\n",
       "      <th>16</th>\n",
       "      <td>Wajid</td>\n",
       "      <td>Engineer</td>\n",
       "      <td>M</td>\n",
       "      <td>85.0</td>\n",
       "      <td>190000.0</td>\n",
       "    </tr>\n",
       "  </tbody>\n",
       "</table>\n",
       "</div>"
      ],
      "text/plain": [
       "             Name Designation Gender    Age    Salary\n",
       "0         Mukhtar  Prrofessor      M   37.0  115000.0\n",
       "1            Aziz     Teacher      M   30.0   35000.0\n",
       "2          Mohsin    Engineer      M   29.0   50000.0\n",
       "3   Naveed Fatima     Analyst      F   30.0   70000.0\n",
       "4           Babar    Engineer      F   25.0  150000.0\n",
       "5            Aqsa   Scientist      F   22.0       NaN\n",
       "6          Rafia      Analyst      F   29.0   20000.0\n",
       "7           Samra   Scientist      F   26.0  115000.0\n",
       "8           Eman     Engineer      F   28.0   35000.0\n",
       "9        Abdullah     Teacher      M   55.0       NaN\n",
       "10          Mosib   Professor      M   60.0   70000.0\n",
       "11          Ahmed    Engineer      M    NaN   90000.0\n",
       "12          Ahsan     trainer      M  156.0  110000.0\n",
       "13          Wajid     Teacher      M   67.0    2000.0\n",
       "14          Naeem     trainer      M   80.0   16000.0\n",
       "15         Qaisar  Prrofessor      M   20.0  170000.0\n",
       "16          Wajid    Engineer      M   85.0  190000.0"
      ]
     },
     "execution_count": 88,
     "metadata": {},
     "output_type": "execute_result"
    }
   ],
   "source": [
    "df"
   ]
  },
  {
   "cell_type": "code",
   "execution_count": 36,
   "metadata": {},
   "outputs": [
    {
     "name": "stdout",
     "output_type": "stream",
     "text": [
      "Defaulting to user installation because normal site-packages is not writeable\n",
      "Requirement already satisfied: pandas in c:\\users\\naveed_ai&ml\\appdata\\roaming\\python\\python313\\site-packages (2.2.3)\n",
      "Requirement already satisfied: openpyxl in c:\\users\\naveed_ai&ml\\appdata\\roaming\\python\\python313\\site-packages (3.1.5)\n",
      "Requirement already satisfied: numpy>=1.26.0 in c:\\users\\naveed_ai&ml\\appdata\\roaming\\python\\python313\\site-packages (from pandas) (2.2.0)\n",
      "Requirement already satisfied: python-dateutil>=2.8.2 in c:\\users\\naveed_ai&ml\\appdata\\roaming\\python\\python313\\site-packages (from pandas) (2.9.0.post0)\n",
      "Requirement already satisfied: pytz>=2020.1 in c:\\users\\naveed_ai&ml\\appdata\\roaming\\python\\python313\\site-packages (from pandas) (2024.2)\n",
      "Requirement already satisfied: tzdata>=2022.7 in c:\\users\\naveed_ai&ml\\appdata\\roaming\\python\\python313\\site-packages (from pandas) (2024.2)\n",
      "Requirement already satisfied: et-xmlfile in c:\\users\\naveed_ai&ml\\appdata\\roaming\\python\\python313\\site-packages (from openpyxl) (2.0.0)\n",
      "Requirement already satisfied: six>=1.5 in c:\\users\\naveed_ai&ml\\appdata\\roaming\\python\\python313\\site-packages (from python-dateutil>=2.8.2->pandas) (1.17.0)\n",
      "Note: you may need to restart the kernel to use updated packages.\n"
     ]
    }
   ],
   "source": [
    "%pip install pandas openpyxl"
   ]
  },
  {
   "cell_type": "code",
   "execution_count": 37,
   "metadata": {},
   "outputs": [
    {
     "data": {
      "text/html": [
       "<div>\n",
       "<style scoped>\n",
       "    .dataframe tbody tr th:only-of-type {\n",
       "        vertical-align: middle;\n",
       "    }\n",
       "\n",
       "    .dataframe tbody tr th {\n",
       "        vertical-align: top;\n",
       "    }\n",
       "\n",
       "    .dataframe thead th {\n",
       "        text-align: right;\n",
       "    }\n",
       "</style>\n",
       "<table border=\"1\" class=\"dataframe\">\n",
       "  <thead>\n",
       "    <tr style=\"text-align: right;\">\n",
       "      <th></th>\n",
       "      <th>Name</th>\n",
       "      <th>Designation</th>\n",
       "      <th>Gender</th>\n",
       "      <th>Age</th>\n",
       "      <th>Salary</th>\n",
       "    </tr>\n",
       "  </thead>\n",
       "  <tbody>\n",
       "    <tr>\n",
       "      <th>0</th>\n",
       "      <td>Mukhtar</td>\n",
       "      <td>Prrofessor</td>\n",
       "      <td>M</td>\n",
       "      <td>37.0</td>\n",
       "      <td>115000.0</td>\n",
       "    </tr>\n",
       "    <tr>\n",
       "      <th>1</th>\n",
       "      <td>Aziz</td>\n",
       "      <td>Teacher</td>\n",
       "      <td>M</td>\n",
       "      <td>30.0</td>\n",
       "      <td>35000.0</td>\n",
       "    </tr>\n",
       "    <tr>\n",
       "      <th>2</th>\n",
       "      <td>Mohsin</td>\n",
       "      <td>Engineer</td>\n",
       "      <td>M</td>\n",
       "      <td>29.0</td>\n",
       "      <td>50000.0</td>\n",
       "    </tr>\n",
       "    <tr>\n",
       "      <th>3</th>\n",
       "      <td>Naveed Fatima</td>\n",
       "      <td>Analyst</td>\n",
       "      <td>F</td>\n",
       "      <td>30.0</td>\n",
       "      <td>70000.0</td>\n",
       "    </tr>\n",
       "    <tr>\n",
       "      <th>4</th>\n",
       "      <td>Babar</td>\n",
       "      <td>Engineer</td>\n",
       "      <td>F</td>\n",
       "      <td>25.0</td>\n",
       "      <td>150000.0</td>\n",
       "    </tr>\n",
       "    <tr>\n",
       "      <th>5</th>\n",
       "      <td>Aqsa</td>\n",
       "      <td>Scientist</td>\n",
       "      <td>F</td>\n",
       "      <td>22.0</td>\n",
       "      <td>NaN</td>\n",
       "    </tr>\n",
       "    <tr>\n",
       "      <th>6</th>\n",
       "      <td>Rafia</td>\n",
       "      <td>Analyst</td>\n",
       "      <td>F</td>\n",
       "      <td>29.0</td>\n",
       "      <td>20000.0</td>\n",
       "    </tr>\n",
       "    <tr>\n",
       "      <th>7</th>\n",
       "      <td>Samra</td>\n",
       "      <td>Scientist</td>\n",
       "      <td>F</td>\n",
       "      <td>26.0</td>\n",
       "      <td>115000.0</td>\n",
       "    </tr>\n",
       "    <tr>\n",
       "      <th>8</th>\n",
       "      <td>Eman</td>\n",
       "      <td>Engineer</td>\n",
       "      <td>F</td>\n",
       "      <td>28.0</td>\n",
       "      <td>35000.0</td>\n",
       "    </tr>\n",
       "    <tr>\n",
       "      <th>9</th>\n",
       "      <td>Abdullah</td>\n",
       "      <td>Teacher</td>\n",
       "      <td>M</td>\n",
       "      <td>55.0</td>\n",
       "      <td>NaN</td>\n",
       "    </tr>\n",
       "    <tr>\n",
       "      <th>10</th>\n",
       "      <td>Mosib</td>\n",
       "      <td>Professor</td>\n",
       "      <td>M</td>\n",
       "      <td>60.0</td>\n",
       "      <td>70000.0</td>\n",
       "    </tr>\n",
       "    <tr>\n",
       "      <th>11</th>\n",
       "      <td>Ahmed</td>\n",
       "      <td>Engineer</td>\n",
       "      <td>M</td>\n",
       "      <td>NaN</td>\n",
       "      <td>90000.0</td>\n",
       "    </tr>\n",
       "    <tr>\n",
       "      <th>12</th>\n",
       "      <td>Ahsan</td>\n",
       "      <td>trainer</td>\n",
       "      <td>M</td>\n",
       "      <td>156.0</td>\n",
       "      <td>110000.0</td>\n",
       "    </tr>\n",
       "    <tr>\n",
       "      <th>13</th>\n",
       "      <td>Wajid</td>\n",
       "      <td>Teacher</td>\n",
       "      <td>M</td>\n",
       "      <td>67.0</td>\n",
       "      <td>2000.0</td>\n",
       "    </tr>\n",
       "    <tr>\n",
       "      <th>14</th>\n",
       "      <td>Naeem</td>\n",
       "      <td>trainer</td>\n",
       "      <td>M</td>\n",
       "      <td>80.0</td>\n",
       "      <td>16000.0</td>\n",
       "    </tr>\n",
       "    <tr>\n",
       "      <th>15</th>\n",
       "      <td>Qaisar</td>\n",
       "      <td>Prrofessor</td>\n",
       "      <td>M</td>\n",
       "      <td>20.0</td>\n",
       "      <td>170000.0</td>\n",
       "    </tr>\n",
       "    <tr>\n",
       "      <th>16</th>\n",
       "      <td>Wajid</td>\n",
       "      <td>Engineer</td>\n",
       "      <td>M</td>\n",
       "      <td>85.0</td>\n",
       "      <td>190000.0</td>\n",
       "    </tr>\n",
       "  </tbody>\n",
       "</table>\n",
       "</div>"
      ],
      "text/plain": [
       "             Name Designation Gender    Age    Salary\n",
       "0         Mukhtar  Prrofessor      M   37.0  115000.0\n",
       "1            Aziz     Teacher      M   30.0   35000.0\n",
       "2          Mohsin    Engineer      M   29.0   50000.0\n",
       "3   Naveed Fatima     Analyst      F   30.0   70000.0\n",
       "4           Babar    Engineer      F   25.0  150000.0\n",
       "5            Aqsa   Scientist      F   22.0       NaN\n",
       "6          Rafia      Analyst      F   29.0   20000.0\n",
       "7           Samra   Scientist      F   26.0  115000.0\n",
       "8           Eman     Engineer      F   28.0   35000.0\n",
       "9        Abdullah     Teacher      M   55.0       NaN\n",
       "10          Mosib   Professor      M   60.0   70000.0\n",
       "11          Ahmed    Engineer      M    NaN   90000.0\n",
       "12          Ahsan     trainer      M  156.0  110000.0\n",
       "13          Wajid     Teacher      M   67.0    2000.0\n",
       "14          Naeem     trainer      M   80.0   16000.0\n",
       "15         Qaisar  Prrofessor      M   20.0  170000.0\n",
       "16          Wajid    Engineer      M   85.0  190000.0"
      ]
     },
     "execution_count": 37,
     "metadata": {},
     "output_type": "execute_result"
    }
   ],
   "source": [
    "pd.read_excel(\"data.xlsx\")"
   ]
  },
  {
   "cell_type": "code",
   "execution_count": 38,
   "metadata": {},
   "outputs": [],
   "source": [
    "# display the top rows"
   ]
  },
  {
   "cell_type": "code",
   "execution_count": 39,
   "metadata": {},
   "outputs": [
    {
     "data": {
      "text/html": [
       "<div>\n",
       "<style scoped>\n",
       "    .dataframe tbody tr th:only-of-type {\n",
       "        vertical-align: middle;\n",
       "    }\n",
       "\n",
       "    .dataframe tbody tr th {\n",
       "        vertical-align: top;\n",
       "    }\n",
       "\n",
       "    .dataframe thead th {\n",
       "        text-align: right;\n",
       "    }\n",
       "</style>\n",
       "<table border=\"1\" class=\"dataframe\">\n",
       "  <thead>\n",
       "    <tr style=\"text-align: right;\">\n",
       "      <th></th>\n",
       "      <th>Name</th>\n",
       "      <th>Designation</th>\n",
       "      <th>Gender</th>\n",
       "      <th>Age</th>\n",
       "      <th>Salary</th>\n",
       "    </tr>\n",
       "  </thead>\n",
       "  <tbody>\n",
       "    <tr>\n",
       "      <th>0</th>\n",
       "      <td>Mukhtar</td>\n",
       "      <td>Prrofessor</td>\n",
       "      <td>M</td>\n",
       "      <td>37.0</td>\n",
       "      <td>115000.0</td>\n",
       "    </tr>\n",
       "    <tr>\n",
       "      <th>1</th>\n",
       "      <td>Aziz</td>\n",
       "      <td>Teacher</td>\n",
       "      <td>M</td>\n",
       "      <td>30.0</td>\n",
       "      <td>35000.0</td>\n",
       "    </tr>\n",
       "    <tr>\n",
       "      <th>2</th>\n",
       "      <td>Mohsin</td>\n",
       "      <td>Engineer</td>\n",
       "      <td>M</td>\n",
       "      <td>29.0</td>\n",
       "      <td>50000.0</td>\n",
       "    </tr>\n",
       "    <tr>\n",
       "      <th>3</th>\n",
       "      <td>Naveed Fatima</td>\n",
       "      <td>Analyst</td>\n",
       "      <td>F</td>\n",
       "      <td>30.0</td>\n",
       "      <td>70000.0</td>\n",
       "    </tr>\n",
       "    <tr>\n",
       "      <th>4</th>\n",
       "      <td>Babar</td>\n",
       "      <td>Engineer</td>\n",
       "      <td>F</td>\n",
       "      <td>25.0</td>\n",
       "      <td>150000.0</td>\n",
       "    </tr>\n",
       "  </tbody>\n",
       "</table>\n",
       "</div>"
      ],
      "text/plain": [
       "            Name Designation Gender   Age    Salary\n",
       "0        Mukhtar  Prrofessor      M  37.0  115000.0\n",
       "1           Aziz     Teacher      M  30.0   35000.0\n",
       "2         Mohsin    Engineer      M  29.0   50000.0\n",
       "3  Naveed Fatima     Analyst      F  30.0   70000.0\n",
       "4          Babar    Engineer      F  25.0  150000.0"
      ]
     },
     "execution_count": 39,
     "metadata": {},
     "output_type": "execute_result"
    }
   ],
   "source": [
    "df.head()"
   ]
  },
  {
   "cell_type": "code",
   "execution_count": 40,
   "metadata": {},
   "outputs": [
    {
     "data": {
      "text/html": [
       "<div>\n",
       "<style scoped>\n",
       "    .dataframe tbody tr th:only-of-type {\n",
       "        vertical-align: middle;\n",
       "    }\n",
       "\n",
       "    .dataframe tbody tr th {\n",
       "        vertical-align: top;\n",
       "    }\n",
       "\n",
       "    .dataframe thead th {\n",
       "        text-align: right;\n",
       "    }\n",
       "</style>\n",
       "<table border=\"1\" class=\"dataframe\">\n",
       "  <thead>\n",
       "    <tr style=\"text-align: right;\">\n",
       "      <th></th>\n",
       "      <th>Name</th>\n",
       "      <th>Designation</th>\n",
       "      <th>Gender</th>\n",
       "      <th>Age</th>\n",
       "      <th>Salary</th>\n",
       "    </tr>\n",
       "  </thead>\n",
       "  <tbody>\n",
       "    <tr>\n",
       "      <th>0</th>\n",
       "      <td>Mukhtar</td>\n",
       "      <td>Prrofessor</td>\n",
       "      <td>M</td>\n",
       "      <td>37.0</td>\n",
       "      <td>115000.0</td>\n",
       "    </tr>\n",
       "    <tr>\n",
       "      <th>1</th>\n",
       "      <td>Aziz</td>\n",
       "      <td>Teacher</td>\n",
       "      <td>M</td>\n",
       "      <td>30.0</td>\n",
       "      <td>35000.0</td>\n",
       "    </tr>\n",
       "    <tr>\n",
       "      <th>2</th>\n",
       "      <td>Mohsin</td>\n",
       "      <td>Engineer</td>\n",
       "      <td>M</td>\n",
       "      <td>29.0</td>\n",
       "      <td>50000.0</td>\n",
       "    </tr>\n",
       "    <tr>\n",
       "      <th>3</th>\n",
       "      <td>Naveed Fatima</td>\n",
       "      <td>Analyst</td>\n",
       "      <td>F</td>\n",
       "      <td>30.0</td>\n",
       "      <td>70000.0</td>\n",
       "    </tr>\n",
       "    <tr>\n",
       "      <th>4</th>\n",
       "      <td>Babar</td>\n",
       "      <td>Engineer</td>\n",
       "      <td>F</td>\n",
       "      <td>25.0</td>\n",
       "      <td>150000.0</td>\n",
       "    </tr>\n",
       "    <tr>\n",
       "      <th>5</th>\n",
       "      <td>Aqsa</td>\n",
       "      <td>Scientist</td>\n",
       "      <td>F</td>\n",
       "      <td>22.0</td>\n",
       "      <td>NaN</td>\n",
       "    </tr>\n",
       "    <tr>\n",
       "      <th>6</th>\n",
       "      <td>Rafia</td>\n",
       "      <td>Analyst</td>\n",
       "      <td>F</td>\n",
       "      <td>29.0</td>\n",
       "      <td>20000.0</td>\n",
       "    </tr>\n",
       "  </tbody>\n",
       "</table>\n",
       "</div>"
      ],
      "text/plain": [
       "            Name Designation Gender   Age    Salary\n",
       "0        Mukhtar  Prrofessor      M  37.0  115000.0\n",
       "1           Aziz     Teacher      M  30.0   35000.0\n",
       "2         Mohsin    Engineer      M  29.0   50000.0\n",
       "3  Naveed Fatima     Analyst      F  30.0   70000.0\n",
       "4          Babar    Engineer      F  25.0  150000.0\n",
       "5           Aqsa   Scientist      F  22.0       NaN\n",
       "6         Rafia      Analyst      F  29.0   20000.0"
      ]
     },
     "execution_count": 40,
     "metadata": {},
     "output_type": "execute_result"
    }
   ],
   "source": [
    "df.head(7)"
   ]
  },
  {
   "cell_type": "code",
   "execution_count": 41,
   "metadata": {},
   "outputs": [],
   "source": [
    "# show bottom rows"
   ]
  },
  {
   "cell_type": "code",
   "execution_count": 42,
   "metadata": {},
   "outputs": [
    {
     "data": {
      "text/html": [
       "<div>\n",
       "<style scoped>\n",
       "    .dataframe tbody tr th:only-of-type {\n",
       "        vertical-align: middle;\n",
       "    }\n",
       "\n",
       "    .dataframe tbody tr th {\n",
       "        vertical-align: top;\n",
       "    }\n",
       "\n",
       "    .dataframe thead th {\n",
       "        text-align: right;\n",
       "    }\n",
       "</style>\n",
       "<table border=\"1\" class=\"dataframe\">\n",
       "  <thead>\n",
       "    <tr style=\"text-align: right;\">\n",
       "      <th></th>\n",
       "      <th>Name</th>\n",
       "      <th>Designation</th>\n",
       "      <th>Gender</th>\n",
       "      <th>Age</th>\n",
       "      <th>Salary</th>\n",
       "    </tr>\n",
       "  </thead>\n",
       "  <tbody>\n",
       "    <tr>\n",
       "      <th>12</th>\n",
       "      <td>Ahsan</td>\n",
       "      <td>trainer</td>\n",
       "      <td>M</td>\n",
       "      <td>156.0</td>\n",
       "      <td>110000.0</td>\n",
       "    </tr>\n",
       "    <tr>\n",
       "      <th>13</th>\n",
       "      <td>Wajid</td>\n",
       "      <td>Teacher</td>\n",
       "      <td>M</td>\n",
       "      <td>67.0</td>\n",
       "      <td>2000.0</td>\n",
       "    </tr>\n",
       "    <tr>\n",
       "      <th>14</th>\n",
       "      <td>Naeem</td>\n",
       "      <td>trainer</td>\n",
       "      <td>M</td>\n",
       "      <td>80.0</td>\n",
       "      <td>16000.0</td>\n",
       "    </tr>\n",
       "    <tr>\n",
       "      <th>15</th>\n",
       "      <td>Qaisar</td>\n",
       "      <td>Prrofessor</td>\n",
       "      <td>M</td>\n",
       "      <td>20.0</td>\n",
       "      <td>170000.0</td>\n",
       "    </tr>\n",
       "    <tr>\n",
       "      <th>16</th>\n",
       "      <td>Wajid</td>\n",
       "      <td>Engineer</td>\n",
       "      <td>M</td>\n",
       "      <td>85.0</td>\n",
       "      <td>190000.0</td>\n",
       "    </tr>\n",
       "  </tbody>\n",
       "</table>\n",
       "</div>"
      ],
      "text/plain": [
       "      Name Designation Gender    Age    Salary\n",
       "12   Ahsan     trainer      M  156.0  110000.0\n",
       "13   Wajid     Teacher      M   67.0    2000.0\n",
       "14   Naeem     trainer      M   80.0   16000.0\n",
       "15  Qaisar  Prrofessor      M   20.0  170000.0\n",
       "16   Wajid    Engineer      M   85.0  190000.0"
      ]
     },
     "execution_count": 42,
     "metadata": {},
     "output_type": "execute_result"
    }
   ],
   "source": [
    "df.tail()"
   ]
  },
  {
   "cell_type": "code",
   "execution_count": 43,
   "metadata": {},
   "outputs": [
    {
     "data": {
      "text/html": [
       "<div>\n",
       "<style scoped>\n",
       "    .dataframe tbody tr th:only-of-type {\n",
       "        vertical-align: middle;\n",
       "    }\n",
       "\n",
       "    .dataframe tbody tr th {\n",
       "        vertical-align: top;\n",
       "    }\n",
       "\n",
       "    .dataframe thead th {\n",
       "        text-align: right;\n",
       "    }\n",
       "</style>\n",
       "<table border=\"1\" class=\"dataframe\">\n",
       "  <thead>\n",
       "    <tr style=\"text-align: right;\">\n",
       "      <th></th>\n",
       "      <th>Name</th>\n",
       "      <th>Designation</th>\n",
       "      <th>Gender</th>\n",
       "      <th>Age</th>\n",
       "      <th>Salary</th>\n",
       "    </tr>\n",
       "  </thead>\n",
       "  <tbody>\n",
       "    <tr>\n",
       "      <th>11</th>\n",
       "      <td>Ahmed</td>\n",
       "      <td>Engineer</td>\n",
       "      <td>M</td>\n",
       "      <td>NaN</td>\n",
       "      <td>90000.0</td>\n",
       "    </tr>\n",
       "    <tr>\n",
       "      <th>12</th>\n",
       "      <td>Ahsan</td>\n",
       "      <td>trainer</td>\n",
       "      <td>M</td>\n",
       "      <td>156.0</td>\n",
       "      <td>110000.0</td>\n",
       "    </tr>\n",
       "    <tr>\n",
       "      <th>13</th>\n",
       "      <td>Wajid</td>\n",
       "      <td>Teacher</td>\n",
       "      <td>M</td>\n",
       "      <td>67.0</td>\n",
       "      <td>2000.0</td>\n",
       "    </tr>\n",
       "    <tr>\n",
       "      <th>14</th>\n",
       "      <td>Naeem</td>\n",
       "      <td>trainer</td>\n",
       "      <td>M</td>\n",
       "      <td>80.0</td>\n",
       "      <td>16000.0</td>\n",
       "    </tr>\n",
       "    <tr>\n",
       "      <th>15</th>\n",
       "      <td>Qaisar</td>\n",
       "      <td>Prrofessor</td>\n",
       "      <td>M</td>\n",
       "      <td>20.0</td>\n",
       "      <td>170000.0</td>\n",
       "    </tr>\n",
       "    <tr>\n",
       "      <th>16</th>\n",
       "      <td>Wajid</td>\n",
       "      <td>Engineer</td>\n",
       "      <td>M</td>\n",
       "      <td>85.0</td>\n",
       "      <td>190000.0</td>\n",
       "    </tr>\n",
       "  </tbody>\n",
       "</table>\n",
       "</div>"
      ],
      "text/plain": [
       "      Name Designation Gender    Age    Salary\n",
       "11   Ahmed    Engineer      M    NaN   90000.0\n",
       "12   Ahsan     trainer      M  156.0  110000.0\n",
       "13   Wajid     Teacher      M   67.0    2000.0\n",
       "14   Naeem     trainer      M   80.0   16000.0\n",
       "15  Qaisar  Prrofessor      M   20.0  170000.0\n",
       "16   Wajid    Engineer      M   85.0  190000.0"
      ]
     },
     "execution_count": 43,
     "metadata": {},
     "output_type": "execute_result"
    }
   ],
   "source": [
    "df.tail(6)"
   ]
  },
  {
   "cell_type": "code",
   "execution_count": 44,
   "metadata": {},
   "outputs": [
    {
     "data": {
      "text/html": [
       "<div>\n",
       "<style scoped>\n",
       "    .dataframe tbody tr th:only-of-type {\n",
       "        vertical-align: middle;\n",
       "    }\n",
       "\n",
       "    .dataframe tbody tr th {\n",
       "        vertical-align: top;\n",
       "    }\n",
       "\n",
       "    .dataframe thead th {\n",
       "        text-align: right;\n",
       "    }\n",
       "</style>\n",
       "<table border=\"1\" class=\"dataframe\">\n",
       "  <thead>\n",
       "    <tr style=\"text-align: right;\">\n",
       "      <th></th>\n",
       "      <th>Name</th>\n",
       "      <th>Designation</th>\n",
       "      <th>Gender</th>\n",
       "      <th>Age</th>\n",
       "      <th>Salary</th>\n",
       "    </tr>\n",
       "  </thead>\n",
       "  <tbody>\n",
       "    <tr>\n",
       "      <th>8</th>\n",
       "      <td>Eman</td>\n",
       "      <td>Engineer</td>\n",
       "      <td>F</td>\n",
       "      <td>28.0</td>\n",
       "      <td>35000.0</td>\n",
       "    </tr>\n",
       "    <tr>\n",
       "      <th>9</th>\n",
       "      <td>Abdullah</td>\n",
       "      <td>Teacher</td>\n",
       "      <td>M</td>\n",
       "      <td>55.0</td>\n",
       "      <td>NaN</td>\n",
       "    </tr>\n",
       "  </tbody>\n",
       "</table>\n",
       "</div>"
      ],
      "text/plain": [
       "       Name Designation Gender   Age   Salary\n",
       "8     Eman     Engineer      F  28.0  35000.0\n",
       "9  Abdullah     Teacher      M  55.0      NaN"
      ]
     },
     "execution_count": 44,
     "metadata": {},
     "output_type": "execute_result"
    }
   ],
   "source": [
    "df.iloc[8:10]"
   ]
  },
  {
   "cell_type": "code",
   "execution_count": 45,
   "metadata": {},
   "outputs": [
    {
     "name": "stdout",
     "output_type": "stream",
     "text": [
      "Defaulting to user installation because normal site-packages is not writeable\n",
      "Requirement already satisfied: pymupdf in c:\\users\\naveed_ai&ml\\appdata\\roaming\\python\\python313\\site-packages (1.25.1)\n",
      "Note: you may need to restart the kernel to use updated packages.\n"
     ]
    }
   ],
   "source": [
    "%pip install pymupdf"
   ]
  },
  {
   "cell_type": "code",
   "execution_count": 46,
   "metadata": {},
   "outputs": [],
   "source": [
    "import fitz"
   ]
  },
  {
   "cell_type": "code",
   "execution_count": 47,
   "metadata": {},
   "outputs": [],
   "source": [
    "pdf_document=fitz.open('dummy.pdf')\n",
    "page=pdf_document.load_page(0)"
   ]
  },
  {
   "cell_type": "code",
   "execution_count": 48,
   "metadata": {},
   "outputs": [
    {
     "name": "stdout",
     "output_type": "stream",
     "text": [
      "Dummy PDF file\n",
      "\n"
     ]
    }
   ],
   "source": [
    "text=page.get_text()\n",
    "print(text)"
   ]
  },
  {
   "cell_type": "code",
   "execution_count": 49,
   "metadata": {},
   "outputs": [],
   "source": [
    "import json"
   ]
  },
  {
   "cell_type": "code",
   "execution_count": 50,
   "metadata": {},
   "outputs": [],
   "source": [
    "with open('sample1.json', 'r') as file:\n",
    "    data = json.load(file)"
   ]
  },
  {
   "cell_type": "code",
   "execution_count": 51,
   "metadata": {},
   "outputs": [
    {
     "name": "stdout",
     "output_type": "stream",
     "text": [
      "{'fruit': 'Apple', 'size': 'Large', 'color': 'Red'}\n"
     ]
    }
   ],
   "source": [
    "print(data)"
   ]
  },
  {
   "cell_type": "code",
   "execution_count": 52,
   "metadata": {},
   "outputs": [
    {
     "name": "stdout",
     "output_type": "stream",
     "text": [
      "Defaulting to user installation because normal site-packages is not writeableNote: you may need to restart the kernel to use updated packages.\n",
      "\n",
      "Requirement already satisfied: python_docx in c:\\users\\naveed_ai&ml\\appdata\\roaming\\python\\python313\\site-packages (1.1.2)\n",
      "Requirement already satisfied: lxml>=3.1.0 in c:\\users\\naveed_ai&ml\\appdata\\roaming\\python\\python313\\site-packages (from python_docx) (5.3.0)\n",
      "Requirement already satisfied: typing-extensions>=4.9.0 in c:\\users\\naveed_ai&ml\\appdata\\roaming\\python\\python313\\site-packages (from python_docx) (4.12.2)\n"
     ]
    }
   ],
   "source": [
    "%pip install python_docx"
   ]
  },
  {
   "cell_type": "code",
   "execution_count": 53,
   "metadata": {},
   "outputs": [],
   "source": [
    "import docx"
   ]
  },
  {
   "cell_type": "code",
   "execution_count": 54,
   "metadata": {},
   "outputs": [],
   "source": [
    "doc = docx.Document('docx.docx')"
   ]
  },
  {
   "cell_type": "code",
   "execution_count": 55,
   "metadata": {},
   "outputs": [
    {
     "name": "stdout",
     "output_type": "stream",
     "text": [
      "The text in a Word document is more than just a string. It has font, size, color, and other styling information associated with it. A style in Word is a collection of these attributes. A Run object is a contiguous run of text with the same style. A new Run object is needed whenever the text style changes.\n",
      "Reading Word Documents\n",
      "\n"
     ]
    }
   ],
   "source": [
    "for p in doc.paragraphs:\n",
    "    print(p.text)"
   ]
  },
  {
   "cell_type": "code",
   "execution_count": 56,
   "metadata": {},
   "outputs": [
    {
     "name": "stdout",
     "output_type": "stream",
     "text": [
      "Defaulting to user installation because normal site-packages is not writeableNote: you may need to restart the kernel to use updated packages.\n",
      "\n",
      "Requirement already satisfied: python-pptx in c:\\users\\naveed_ai&ml\\appdata\\roaming\\python\\python313\\site-packages (1.0.2)\n",
      "Requirement already satisfied: Pillow>=3.3.2 in c:\\users\\naveed_ai&ml\\appdata\\roaming\\python\\python313\\site-packages (from python-pptx) (11.0.0)\n",
      "Requirement already satisfied: XlsxWriter>=0.5.7 in c:\\users\\naveed_ai&ml\\appdata\\roaming\\python\\python313\\site-packages (from python-pptx) (3.2.0)\n",
      "Requirement already satisfied: lxml>=3.1.0 in c:\\users\\naveed_ai&ml\\appdata\\roaming\\python\\python313\\site-packages (from python-pptx) (5.3.0)\n",
      "Requirement already satisfied: typing-extensions>=4.9.0 in c:\\users\\naveed_ai&ml\\appdata\\roaming\\python\\python313\\site-packages (from python-pptx) (4.12.2)\n"
     ]
    }
   ],
   "source": [
    "%pip install python-pptx"
   ]
  },
  {
   "cell_type": "code",
   "execution_count": 57,
   "metadata": {},
   "outputs": [
    {
     "name": "stdout",
     "output_type": "stream",
     "text": [
      "\n",
      "Slide 1:\n",
      "Sample PowerPoint File\n",
      "St. Cloud Technical College\n",
      "\n",
      "Slide 2:\n",
      "This is a Sample Slide\n",
      "Here is an outline of bulleted points\n",
      "You can print out PPT files as handouts using the \u000bPRINT > \u000b  PRINT WHAT > HANDOUTS option\n",
      "\n"
     ]
    }
   ],
   "source": [
    "from pptx import Presentation\n",
    "\n",
    "def extract_text_from_pptx(pptx_path):\n",
    "    presentation = Presentation(pptx_path)\n",
    "    extracted_text = \"\"\n",
    "\n",
    "    for slide_number, slide in enumerate(presentation.slides):\n",
    "        extracted_text += f\"\\nSlide {slide_number + 1}:\\n\"\n",
    "\n",
    "        for shape in slide.shapes:\n",
    "            if hasattr(shape, \"text\"):\n",
    "                extracted_text += shape.text + \"\\n\"\n",
    "\n",
    "    return extracted_text\n",
    "\n",
    "pptx_path = 'samplepptx.pptx'\n",
    "text = extract_text_from_pptx(pptx_path)\n",
    "\n",
    "print(text)"
   ]
  },
  {
   "cell_type": "code",
   "execution_count": 58,
   "metadata": {},
   "outputs": [
    {
     "name": "stdout",
     "output_type": "stream",
     "text": [
      "Defaulting to user installation because normal site-packages is not writeable\n",
      "Requirement already satisfied: pillow in c:\\users\\naveed_ai&ml\\appdata\\roaming\\python\\python313\\site-packages (11.0.0)\n",
      "Note: you may need to restart the kernel to use updated packages.\n"
     ]
    }
   ],
   "source": [
    "%pip install pillow"
   ]
  },
  {
   "cell_type": "code",
   "execution_count": 59,
   "metadata": {},
   "outputs": [],
   "source": [
    "from PIL import Image"
   ]
  },
  {
   "cell_type": "code",
   "execution_count": 60,
   "metadata": {},
   "outputs": [],
   "source": [
    "im = Image.open(\"profile.jpg\")"
   ]
  },
  {
   "cell_type": "markdown",
   "metadata": {},
   "source": [
    "##### this is how the image is shown"
   ]
  },
  {
   "cell_type": "code",
   "execution_count": 61,
   "metadata": {},
   "outputs": [],
   "source": [
    "im.show()"
   ]
  },
  {
   "cell_type": "code",
   "execution_count": 63,
   "metadata": {},
   "outputs": [
    {
     "data": {
      "text/html": [
       "<div>\n",
       "<style scoped>\n",
       "    .dataframe tbody tr th:only-of-type {\n",
       "        vertical-align: middle;\n",
       "    }\n",
       "\n",
       "    .dataframe tbody tr th {\n",
       "        vertical-align: top;\n",
       "    }\n",
       "\n",
       "    .dataframe thead th {\n",
       "        text-align: right;\n",
       "    }\n",
       "</style>\n",
       "<table border=\"1\" class=\"dataframe\">\n",
       "  <thead>\n",
       "    <tr style=\"text-align: right;\">\n",
       "      <th></th>\n",
       "      <th>Name</th>\n",
       "      <th>Designation</th>\n",
       "      <th>Gender</th>\n",
       "      <th>Age</th>\n",
       "      <th>Salary</th>\n",
       "    </tr>\n",
       "  </thead>\n",
       "  <tbody>\n",
       "    <tr>\n",
       "      <th>0</th>\n",
       "      <td>Mukhtar</td>\n",
       "      <td>Prrofessor</td>\n",
       "      <td>M</td>\n",
       "      <td>37.0</td>\n",
       "      <td>115000.0</td>\n",
       "    </tr>\n",
       "    <tr>\n",
       "      <th>1</th>\n",
       "      <td>Aziz</td>\n",
       "      <td>Teacher</td>\n",
       "      <td>M</td>\n",
       "      <td>30.0</td>\n",
       "      <td>35000.0</td>\n",
       "    </tr>\n",
       "    <tr>\n",
       "      <th>2</th>\n",
       "      <td>Mohsin</td>\n",
       "      <td>Engineer</td>\n",
       "      <td>M</td>\n",
       "      <td>29.0</td>\n",
       "      <td>50000.0</td>\n",
       "    </tr>\n",
       "    <tr>\n",
       "      <th>3</th>\n",
       "      <td>Naveed Fatima</td>\n",
       "      <td>Analyst</td>\n",
       "      <td>F</td>\n",
       "      <td>30.0</td>\n",
       "      <td>70000.0</td>\n",
       "    </tr>\n",
       "    <tr>\n",
       "      <th>4</th>\n",
       "      <td>Babar</td>\n",
       "      <td>Engineer</td>\n",
       "      <td>F</td>\n",
       "      <td>25.0</td>\n",
       "      <td>150000.0</td>\n",
       "    </tr>\n",
       "    <tr>\n",
       "      <th>5</th>\n",
       "      <td>Aqsa</td>\n",
       "      <td>Scientist</td>\n",
       "      <td>F</td>\n",
       "      <td>22.0</td>\n",
       "      <td>NaN</td>\n",
       "    </tr>\n",
       "    <tr>\n",
       "      <th>6</th>\n",
       "      <td>Rafia</td>\n",
       "      <td>Analyst</td>\n",
       "      <td>F</td>\n",
       "      <td>29.0</td>\n",
       "      <td>20000.0</td>\n",
       "    </tr>\n",
       "    <tr>\n",
       "      <th>7</th>\n",
       "      <td>Samra</td>\n",
       "      <td>Scientist</td>\n",
       "      <td>F</td>\n",
       "      <td>26.0</td>\n",
       "      <td>115000.0</td>\n",
       "    </tr>\n",
       "    <tr>\n",
       "      <th>8</th>\n",
       "      <td>Eman</td>\n",
       "      <td>Engineer</td>\n",
       "      <td>F</td>\n",
       "      <td>28.0</td>\n",
       "      <td>35000.0</td>\n",
       "    </tr>\n",
       "    <tr>\n",
       "      <th>9</th>\n",
       "      <td>Abdullah</td>\n",
       "      <td>Teacher</td>\n",
       "      <td>M</td>\n",
       "      <td>55.0</td>\n",
       "      <td>NaN</td>\n",
       "    </tr>\n",
       "    <tr>\n",
       "      <th>10</th>\n",
       "      <td>Mosib</td>\n",
       "      <td>Professor</td>\n",
       "      <td>M</td>\n",
       "      <td>60.0</td>\n",
       "      <td>70000.0</td>\n",
       "    </tr>\n",
       "    <tr>\n",
       "      <th>11</th>\n",
       "      <td>Ahmed</td>\n",
       "      <td>Engineer</td>\n",
       "      <td>M</td>\n",
       "      <td>NaN</td>\n",
       "      <td>90000.0</td>\n",
       "    </tr>\n",
       "    <tr>\n",
       "      <th>12</th>\n",
       "      <td>Ahsan</td>\n",
       "      <td>trainer</td>\n",
       "      <td>M</td>\n",
       "      <td>156.0</td>\n",
       "      <td>110000.0</td>\n",
       "    </tr>\n",
       "    <tr>\n",
       "      <th>13</th>\n",
       "      <td>Wajid</td>\n",
       "      <td>Teacher</td>\n",
       "      <td>M</td>\n",
       "      <td>67.0</td>\n",
       "      <td>2000.0</td>\n",
       "    </tr>\n",
       "    <tr>\n",
       "      <th>14</th>\n",
       "      <td>Naeem</td>\n",
       "      <td>trainer</td>\n",
       "      <td>M</td>\n",
       "      <td>80.0</td>\n",
       "      <td>16000.0</td>\n",
       "    </tr>\n",
       "    <tr>\n",
       "      <th>15</th>\n",
       "      <td>Qaisar</td>\n",
       "      <td>Prrofessor</td>\n",
       "      <td>M</td>\n",
       "      <td>20.0</td>\n",
       "      <td>170000.0</td>\n",
       "    </tr>\n",
       "    <tr>\n",
       "      <th>16</th>\n",
       "      <td>Wajid</td>\n",
       "      <td>Engineer</td>\n",
       "      <td>M</td>\n",
       "      <td>85.0</td>\n",
       "      <td>190000.0</td>\n",
       "    </tr>\n",
       "  </tbody>\n",
       "</table>\n",
       "</div>"
      ],
      "text/plain": [
       "             Name Designation Gender    Age    Salary\n",
       "0         Mukhtar  Prrofessor      M   37.0  115000.0\n",
       "1            Aziz     Teacher      M   30.0   35000.0\n",
       "2          Mohsin    Engineer      M   29.0   50000.0\n",
       "3   Naveed Fatima     Analyst      F   30.0   70000.0\n",
       "4           Babar    Engineer      F   25.0  150000.0\n",
       "5            Aqsa   Scientist      F   22.0       NaN\n",
       "6          Rafia      Analyst      F   29.0   20000.0\n",
       "7           Samra   Scientist      F   26.0  115000.0\n",
       "8           Eman     Engineer      F   28.0   35000.0\n",
       "9        Abdullah     Teacher      M   55.0       NaN\n",
       "10          Mosib   Professor      M   60.0   70000.0\n",
       "11          Ahmed    Engineer      M    NaN   90000.0\n",
       "12          Ahsan     trainer      M  156.0  110000.0\n",
       "13          Wajid     Teacher      M   67.0    2000.0\n",
       "14          Naeem     trainer      M   80.0   16000.0\n",
       "15         Qaisar  Prrofessor      M   20.0  170000.0\n",
       "16          Wajid    Engineer      M   85.0  190000.0"
      ]
     },
     "execution_count": 63,
     "metadata": {},
     "output_type": "execute_result"
    }
   ],
   "source": [
    "df"
   ]
  },
  {
   "cell_type": "code",
   "execution_count": 91,
   "metadata": {},
   "outputs": [
    {
     "data": {
      "text/plain": [
       "0     Prrofessor\n",
       "1        Teacher\n",
       "2       Engineer\n",
       "3        Analyst\n",
       "4       Engineer\n",
       "5      Scientist\n",
       "6        Analyst\n",
       "7      Scientist\n",
       "8       Engineer\n",
       "9        Teacher\n",
       "10     Professor\n",
       "11      Engineer\n",
       "12       trainer\n",
       "13       Teacher\n",
       "14       trainer\n",
       "15    Prrofessor\n",
       "16      Engineer\n",
       "Name: Designation, dtype: object"
      ]
     },
     "execution_count": 91,
     "metadata": {},
     "output_type": "execute_result"
    }
   ],
   "source": [
    "df[\"Designation\"]"
   ]
  },
  {
   "cell_type": "code",
   "execution_count": 92,
   "metadata": {},
   "outputs": [
    {
     "data": {
      "text/plain": [
       "Name           0\n",
       "Designation    0\n",
       "Gender         0\n",
       "Age            1\n",
       "Salary         2\n",
       "dtype: int64"
      ]
     },
     "execution_count": 92,
     "metadata": {},
     "output_type": "execute_result"
    }
   ],
   "source": [
    "df.isnull().sum()"
   ]
  },
  {
   "cell_type": "code",
   "execution_count": 93,
   "metadata": {},
   "outputs": [
    {
     "data": {
      "text/plain": [
       "np.int64(1)"
      ]
     },
     "execution_count": 93,
     "metadata": {},
     "output_type": "execute_result"
    }
   ],
   "source": [
    "df[\"Age\"].isnull().sum()"
   ]
  },
  {
   "cell_type": "code",
   "execution_count": 94,
   "metadata": {},
   "outputs": [],
   "source": [
    "df['Age']=df['Age'].fillna(df['Age'].median)"
   ]
  },
  {
   "cell_type": "code",
   "execution_count": 95,
   "metadata": {},
   "outputs": [
    {
     "data": {
      "text/plain": [
       "0                                                  37.0\n",
       "1                                                  30.0\n",
       "2                                                  29.0\n",
       "3                                                  30.0\n",
       "4                                                  25.0\n",
       "5                                                  22.0\n",
       "6                                                  29.0\n",
       "7                                                  26.0\n",
       "8                                                  28.0\n",
       "9                                                  55.0\n",
       "10                                                 60.0\n",
       "11    <bound method Series.median of 0      37.0\\n1 ...\n",
       "12                                                156.0\n",
       "13                                                 67.0\n",
       "14                                                 80.0\n",
       "15                                                 20.0\n",
       "16                                                 85.0\n",
       "Name: Age, dtype: object"
      ]
     },
     "execution_count": 95,
     "metadata": {},
     "output_type": "execute_result"
    }
   ],
   "source": [
    "df['Age']"
   ]
  },
  {
   "cell_type": "code",
   "execution_count": 75,
   "metadata": {},
   "outputs": [
    {
     "data": {
      "text/plain": [
       "np.int64(2)"
      ]
     },
     "execution_count": 75,
     "metadata": {},
     "output_type": "execute_result"
    }
   ],
   "source": [
    "#df[\"Salary\"].isnull().sum()"
   ]
  },
  {
   "cell_type": "code",
   "execution_count": 76,
   "metadata": {},
   "outputs": [],
   "source": [
    "#df['Salary']=df['Salary'].fillna(df['Salary'].median)"
   ]
  },
  {
   "cell_type": "code",
   "execution_count": 81,
   "metadata": {},
   "outputs": [],
   "source": [
    "#df['Salary']"
   ]
  },
  {
   "cell_type": "code",
   "execution_count": 96,
   "metadata": {},
   "outputs": [],
   "source": [
    "df=df.dropna(subset='Salary')"
   ]
  },
  {
   "cell_type": "code",
   "execution_count": 97,
   "metadata": {},
   "outputs": [
    {
     "data": {
      "text/plain": [
       "0     115000.0\n",
       "1      35000.0\n",
       "2      50000.0\n",
       "3      70000.0\n",
       "4     150000.0\n",
       "6      20000.0\n",
       "7     115000.0\n",
       "8      35000.0\n",
       "10     70000.0\n",
       "11     90000.0\n",
       "12    110000.0\n",
       "13      2000.0\n",
       "14     16000.0\n",
       "15    170000.0\n",
       "16    190000.0\n",
       "Name: Salary, dtype: float64"
      ]
     },
     "execution_count": 97,
     "metadata": {},
     "output_type": "execute_result"
    }
   ],
   "source": [
    "df['Salary']"
   ]
  },
  {
   "cell_type": "code",
   "execution_count": 98,
   "metadata": {},
   "outputs": [
    {
     "data": {
      "text/plain": [
       "Name           0\n",
       "Designation    0\n",
       "Gender         0\n",
       "Age            0\n",
       "Salary         0\n",
       "dtype: int64"
      ]
     },
     "execution_count": 98,
     "metadata": {},
     "output_type": "execute_result"
    }
   ],
   "source": [
    "df.isnull().sum()"
   ]
  },
  {
   "cell_type": "markdown",
   "metadata": {},
   "source": []
  }
 ],
 "metadata": {
  "kernelspec": {
   "display_name": "Python 3",
   "language": "python",
   "name": "python3"
  },
  "language_info": {
   "codemirror_mode": {
    "name": "ipython",
    "version": 3
   },
   "file_extension": ".py",
   "mimetype": "text/x-python",
   "name": "python",
   "nbconvert_exporter": "python",
   "pygments_lexer": "ipython3",
   "version": "3.13.1"
  }
 },
 "nbformat": 4,
 "nbformat_minor": 2
}
